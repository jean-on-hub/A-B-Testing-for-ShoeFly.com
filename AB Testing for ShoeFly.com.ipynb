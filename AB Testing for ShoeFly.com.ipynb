{
 "cells": [
  {
   "cell_type": "markdown",
   "id": "83c00928",
   "metadata": {},
   "source": [
    "### import libraries"
   ]
  },
  {
   "cell_type": "code",
   "execution_count": 4,
   "id": "d244155c",
   "metadata": {},
   "outputs": [],
   "source": [
    "import pandas as pd"
   ]
  },
  {
   "cell_type": "markdown",
   "id": "fa58a49d",
   "metadata": {},
   "source": [
    "### read file and inspect file"
   ]
  },
  {
   "cell_type": "code",
   "execution_count": 7,
   "id": "734abbd4",
   "metadata": {},
   "outputs": [
    {
     "data": {
      "text/html": [
       "<div>\n",
       "<style scoped>\n",
       "    .dataframe tbody tr th:only-of-type {\n",
       "        vertical-align: middle;\n",
       "    }\n",
       "\n",
       "    .dataframe tbody tr th {\n",
       "        vertical-align: top;\n",
       "    }\n",
       "\n",
       "    .dataframe thead th {\n",
       "        text-align: right;\n",
       "    }\n",
       "</style>\n",
       "<table border=\"1\" class=\"dataframe\">\n",
       "  <thead>\n",
       "    <tr style=\"text-align: right;\">\n",
       "      <th></th>\n",
       "      <th>user_id</th>\n",
       "      <th>utm_source</th>\n",
       "      <th>day</th>\n",
       "      <th>ad_click_timestamp</th>\n",
       "      <th>experimental_group</th>\n",
       "    </tr>\n",
       "  </thead>\n",
       "  <tbody>\n",
       "    <tr>\n",
       "      <th>0</th>\n",
       "      <td>008b7c6c-7272-471e-b90e-930d548bd8d7</td>\n",
       "      <td>google</td>\n",
       "      <td>6 - Saturday</td>\n",
       "      <td>7:18</td>\n",
       "      <td>A</td>\n",
       "    </tr>\n",
       "    <tr>\n",
       "      <th>1</th>\n",
       "      <td>009abb94-5e14-4b6c-bb1c-4f4df7aa7557</td>\n",
       "      <td>facebook</td>\n",
       "      <td>7 - Sunday</td>\n",
       "      <td>NaN</td>\n",
       "      <td>B</td>\n",
       "    </tr>\n",
       "    <tr>\n",
       "      <th>2</th>\n",
       "      <td>00f5d532-ed58-4570-b6d2-768df5f41aed</td>\n",
       "      <td>twitter</td>\n",
       "      <td>2 - Tuesday</td>\n",
       "      <td>NaN</td>\n",
       "      <td>A</td>\n",
       "    </tr>\n",
       "    <tr>\n",
       "      <th>3</th>\n",
       "      <td>011adc64-0f44-4fd9-a0bb-f1506d2ad439</td>\n",
       "      <td>google</td>\n",
       "      <td>2 - Tuesday</td>\n",
       "      <td>NaN</td>\n",
       "      <td>B</td>\n",
       "    </tr>\n",
       "    <tr>\n",
       "      <th>4</th>\n",
       "      <td>012137e6-7ae7-4649-af68-205b4702169c</td>\n",
       "      <td>facebook</td>\n",
       "      <td>7 - Sunday</td>\n",
       "      <td>NaN</td>\n",
       "      <td>B</td>\n",
       "    </tr>\n",
       "  </tbody>\n",
       "</table>\n",
       "</div>"
      ],
      "text/plain": [
       "                                user_id utm_source           day  \\\n",
       "0  008b7c6c-7272-471e-b90e-930d548bd8d7     google  6 - Saturday   \n",
       "1  009abb94-5e14-4b6c-bb1c-4f4df7aa7557   facebook    7 - Sunday   \n",
       "2  00f5d532-ed58-4570-b6d2-768df5f41aed    twitter   2 - Tuesday   \n",
       "3  011adc64-0f44-4fd9-a0bb-f1506d2ad439     google   2 - Tuesday   \n",
       "4  012137e6-7ae7-4649-af68-205b4702169c   facebook    7 - Sunday   \n",
       "\n",
       "  ad_click_timestamp experimental_group  \n",
       "0               7:18                  A  \n",
       "1                NaN                  B  \n",
       "2                NaN                  A  \n",
       "3                NaN                  B  \n",
       "4                NaN                  B  "
      ]
     },
     "execution_count": 7,
     "metadata": {},
     "output_type": "execute_result"
    }
   ],
   "source": [
    "ad_clicks = pd.read_csv('ad_clicks.csv')\n",
    "ad_clicks.head()"
   ]
  },
  {
   "cell_type": "markdown",
   "id": "5e4d2c39",
   "metadata": {},
   "source": [
    "### seperate views by utm source"
   ]
  },
  {
   "cell_type": "code",
   "execution_count": 8,
   "id": "cebe6840",
   "metadata": {},
   "outputs": [
    {
     "data": {
      "text/html": [
       "<div>\n",
       "<style scoped>\n",
       "    .dataframe tbody tr th:only-of-type {\n",
       "        vertical-align: middle;\n",
       "    }\n",
       "\n",
       "    .dataframe tbody tr th {\n",
       "        vertical-align: top;\n",
       "    }\n",
       "\n",
       "    .dataframe thead th {\n",
       "        text-align: right;\n",
       "    }\n",
       "</style>\n",
       "<table border=\"1\" class=\"dataframe\">\n",
       "  <thead>\n",
       "    <tr style=\"text-align: right;\">\n",
       "      <th></th>\n",
       "      <th>utm_source</th>\n",
       "      <th>user_id</th>\n",
       "    </tr>\n",
       "  </thead>\n",
       "  <tbody>\n",
       "    <tr>\n",
       "      <th>0</th>\n",
       "      <td>email</td>\n",
       "      <td>255</td>\n",
       "    </tr>\n",
       "    <tr>\n",
       "      <th>1</th>\n",
       "      <td>facebook</td>\n",
       "      <td>504</td>\n",
       "    </tr>\n",
       "    <tr>\n",
       "      <th>2</th>\n",
       "      <td>google</td>\n",
       "      <td>680</td>\n",
       "    </tr>\n",
       "    <tr>\n",
       "      <th>3</th>\n",
       "      <td>twitter</td>\n",
       "      <td>215</td>\n",
       "    </tr>\n",
       "  </tbody>\n",
       "</table>\n",
       "</div>"
      ],
      "text/plain": [
       "  utm_source  user_id\n",
       "0      email      255\n",
       "1   facebook      504\n",
       "2     google      680\n",
       "3    twitter      215"
      ]
     },
     "execution_count": 8,
     "metadata": {},
     "output_type": "execute_result"
    }
   ],
   "source": [
    "utm_source  = ad_clicks.groupby(\"utm_source\").user_id.count().reset_index()\n",
    "utm_source"
   ]
  },
  {
   "cell_type": "markdown",
   "id": "bb4ee00c",
   "metadata": {},
   "source": [
    "### create a column to check clicks"
   ]
  },
  {
   "cell_type": "code",
   "execution_count": 10,
   "id": "1aae6c5a",
   "metadata": {},
   "outputs": [
    {
     "data": {
      "text/plain": [
       "0       False\n",
       "1        True\n",
       "2        True\n",
       "3        True\n",
       "4        True\n",
       "        ...  \n",
       "1649     True\n",
       "1650     True\n",
       "1651     True\n",
       "1652    False\n",
       "1653     True\n",
       "Name: is_click, Length: 1654, dtype: bool"
      ]
     },
     "execution_count": 10,
     "metadata": {},
     "output_type": "execute_result"
    }
   ],
   "source": [
    "ad_clicks[\"is_click\"] =  ad_clicks.ad_click_timestamp.isnull()\n",
    "ad_clicks.is_click"
   ]
  },
  {
   "cell_type": "markdown",
   "id": "fab87c33",
   "metadata": {},
   "source": [
    "### find percent of clicks by utm source"
   ]
  },
  {
   "cell_type": "code",
   "execution_count": 18,
   "id": "91320abd",
   "metadata": {},
   "outputs": [
    {
     "data": {
      "text/html": [
       "<div>\n",
       "<style scoped>\n",
       "    .dataframe tbody tr th:only-of-type {\n",
       "        vertical-align: middle;\n",
       "    }\n",
       "\n",
       "    .dataframe tbody tr th {\n",
       "        vertical-align: top;\n",
       "    }\n",
       "\n",
       "    .dataframe thead th {\n",
       "        text-align: right;\n",
       "    }\n",
       "</style>\n",
       "<table border=\"1\" class=\"dataframe\">\n",
       "  <thead>\n",
       "    <tr style=\"text-align: right;\">\n",
       "      <th>is_click</th>\n",
       "      <th>False</th>\n",
       "      <th>True</th>\n",
       "      <th>percent_clicked</th>\n",
       "    </tr>\n",
       "    <tr>\n",
       "      <th>utm_source</th>\n",
       "      <th></th>\n",
       "      <th></th>\n",
       "      <th></th>\n",
       "    </tr>\n",
       "  </thead>\n",
       "  <tbody>\n",
       "    <tr>\n",
       "      <th>email</th>\n",
       "      <td>80</td>\n",
       "      <td>175</td>\n",
       "      <td>68.627451</td>\n",
       "    </tr>\n",
       "    <tr>\n",
       "      <th>facebook</th>\n",
       "      <td>180</td>\n",
       "      <td>324</td>\n",
       "      <td>64.285714</td>\n",
       "    </tr>\n",
       "    <tr>\n",
       "      <th>google</th>\n",
       "      <td>239</td>\n",
       "      <td>441</td>\n",
       "      <td>64.852941</td>\n",
       "    </tr>\n",
       "    <tr>\n",
       "      <th>twitter</th>\n",
       "      <td>66</td>\n",
       "      <td>149</td>\n",
       "      <td>69.302326</td>\n",
       "    </tr>\n",
       "  </tbody>\n",
       "</table>\n",
       "</div>"
      ],
      "text/plain": [
       "is_click    False  True  percent_clicked\n",
       "utm_source                              \n",
       "email          80   175        68.627451\n",
       "facebook      180   324        64.285714\n",
       "google        239   441        64.852941\n",
       "twitter        66   149        69.302326"
      ]
     },
     "execution_count": 18,
     "metadata": {},
     "output_type": "execute_result"
    }
   ],
   "source": [
    "clicks_by_source = ad_clicks.groupby([\"utm_source\",\"is_click\"]).user_id.count().reset_index()\n",
    "#print(clicks_by_source)\n",
    "clicks_pivot = clicks_by_source.pivot(columns = \"is_click\",index=\"utm_source\",values = \"user_id\")\n",
    "#print(clicks_pivot)\n",
    "clicks_pivot[\"percent_clicked\"] = clicks_pivot[True]/(clicks_pivot[True] + clicks_pivot[False]) *100\n",
    "clicks_pivot\n"
   ]
  },
  {
   "cell_type": "markdown",
   "id": "32d8b6c3",
   "metadata": {},
   "source": [
    "### Analyzing an A/B Test"
   ]
  },
  {
   "cell_type": "code",
   "execution_count": 27,
   "id": "a25dd63d",
   "metadata": {},
   "outputs": [
    {
     "data": {
      "text/html": [
       "<div>\n",
       "<style scoped>\n",
       "    .dataframe tbody tr th:only-of-type {\n",
       "        vertical-align: middle;\n",
       "    }\n",
       "\n",
       "    .dataframe tbody tr th {\n",
       "        vertical-align: top;\n",
       "    }\n",
       "\n",
       "    .dataframe thead th {\n",
       "        text-align: right;\n",
       "    }\n",
       "</style>\n",
       "<table border=\"1\" class=\"dataframe\">\n",
       "  <thead>\n",
       "    <tr style=\"text-align: right;\">\n",
       "      <th>is_click</th>\n",
       "      <th>experimental_group</th>\n",
       "      <th>False</th>\n",
       "      <th>True</th>\n",
       "      <th>percent</th>\n",
       "    </tr>\n",
       "  </thead>\n",
       "  <tbody>\n",
       "    <tr>\n",
       "      <th>0</th>\n",
       "      <td>A</td>\n",
       "      <td>310</td>\n",
       "      <td>517</td>\n",
       "      <td>62.515115</td>\n",
       "    </tr>\n",
       "    <tr>\n",
       "      <th>1</th>\n",
       "      <td>B</td>\n",
       "      <td>255</td>\n",
       "      <td>572</td>\n",
       "      <td>69.165659</td>\n",
       "    </tr>\n",
       "  </tbody>\n",
       "</table>\n",
       "</div>"
      ],
      "text/plain": [
       "is_click experimental_group  False  True    percent\n",
       "0                         A    310   517  62.515115\n",
       "1                         B    255   572  69.165659"
      ]
     },
     "execution_count": 27,
     "metadata": {},
     "output_type": "execute_result"
    }
   ],
   "source": [
    "# group by ads\n",
    "group_by_ad  = ad_clicks.groupby(\"experimental_group\").user_id.count().reset_index()\n",
    "group_by_ad\n",
    "#group by clicks\n",
    "group_by_click = ad_clicks.groupby([\"experimental_group\",\"is_click\"]).user_id.count().reset_index()\n",
    "group_by_click\n",
    "# find the percentage of clicks\n",
    "# pivot the table for easier analyses\n",
    "group_by_click_piv=group_by_click.pivot(columns = \"is_click\",index=\"experimental_group\",values = \"user_id\").reset_index()\n",
    "group_by_click_piv\n",
    "group_by_click_piv[\"percent\"] = group_by_click_piv[True]/(group_by_click_piv[True] + group_by_click_piv[False]) *100\n",
    "group_by_click_piv\n",
    "\n",
    "\n"
   ]
  },
  {
   "cell_type": "markdown",
   "id": "53f7c2d1",
   "metadata": {},
   "source": [
    "### group click data by days"
   ]
  },
  {
   "cell_type": "code",
   "execution_count": 28,
   "id": "4582a688",
   "metadata": {},
   "outputs": [
    {
     "name": "stdout",
     "output_type": "stream",
     "text": [
      "day\n",
      "1 - Monday       61.946903\n",
      "2 - Tuesday      63.865546\n",
      "3 - Wednesday    69.354839\n",
      "4 - Thursday     59.482759\n",
      "5 - Friday       60.156250\n",
      "6 - Saturday     61.864407\n",
      "7 - Sunday       60.550459\n",
      "Name: percent, dtype: float64\n"
     ]
    }
   ],
   "source": [
    "a_clicks = ad_clicks[ ad_clicks.experimental_group == 'A']\n",
    "b_clicks = ad_clicks[ ad_clicks.experimental_group == 'B']\n",
    "a_clicks\n",
    "group_by_day_a = a_clicks.groupby([\"day\",\"is_click\"]).user_id.count().reset_index()\n",
    "group_by_day_a_pivot = group_by_day_a.pivot(columns =\"is_click\",index =\"day\" ,values=\"user_id\" )\n",
    "#print(group_by_day_a_pivot)\n",
    "group_by_day_a_pivot[\"percent\"]= group_by_day_a_pivot[True]/(group_by_day_a_pivot[True] + group_by_day_a_pivot[False]) *100\n",
    "print(group_by_day_a_pivot[\"percent\"])\n",
    "\n",
    "group_by_day_b = b_clicks.groupby([\"day\",\"is_click\"]).user_id.count().reset_index()\n",
    "group_by_day_b_pivot = group_by_day_b.pivot(columns =\"is_click\",index =\"day\" ,values=\"user_id\" )\n",
    "group_by_day_b_pivot[\"percent\"]= group_by_day_b_pivot[True]/(group_by_day_b_pivot[True] + group_by_day_b_pivot[False]) *100\n",
    "print(group_by_day_b_pivot[\"percent\"])"
   ]
  },
  {
   "cell_type": "code",
   "execution_count": null,
   "id": "53f255e5",
   "metadata": {},
   "outputs": [],
   "source": [
    "#11 recommendation \n",
    "ans = \"i recommend ad B to the company as it has better results overall in terms in of number of add clicks.\"\n",
    "print(ans)"
   ]
  }
 ],
 "metadata": {
  "kernelspec": {
   "display_name": "Python 3",
   "language": "python",
   "name": "python3"
  },
  "language_info": {
   "codemirror_mode": {
    "name": "ipython",
    "version": 3
   },
   "file_extension": ".py",
   "mimetype": "text/x-python",
   "name": "python",
   "nbconvert_exporter": "python",
   "pygments_lexer": "ipython3",
   "version": "3.8.8"
  }
 },
 "nbformat": 4,
 "nbformat_minor": 5
}
